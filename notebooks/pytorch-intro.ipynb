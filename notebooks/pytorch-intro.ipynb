{
 "cells": [
  {
   "cell_type": "code",
   "execution_count": 95,
   "metadata": {},
   "outputs": [],
   "source": [
    "import torch\n",
    "import numpy as np"
   ]
  },
  {
   "cell_type": "code",
   "execution_count": 72,
   "metadata": {},
   "outputs": [
    {
     "name": "stdout",
     "output_type": "stream",
     "text": [
      "tensor([[9.2755e-39, 8.9082e-39, 9.9184e-39],\n",
      "        [8.4490e-39, 9.6429e-39, 1.0653e-38],\n",
      "        [1.0469e-38, 4.2246e-39, 1.0378e-38],\n",
      "        [9.6429e-39, 9.2755e-39, 9.7346e-39],\n",
      "        [1.0745e-38, 1.0102e-38, 9.9184e-39]])\n"
     ]
    }
   ],
   "source": [
    "# uninitialized matrix\n",
    "# contains whatever vals in allocated memory at the time\n",
    "x = torch.empty(5, 3)\n",
    "print(x)"
   ]
  },
  {
   "cell_type": "code",
   "execution_count": 73,
   "outputs": [
    {
     "name": "stdout",
     "output_type": "stream",
     "text": [
      "tensor([[ 0.5948, -0.7592, -0.7659],\n",
      "        [-1.5243,  0.9289, -0.7383],\n",
      "        [ 0.4419, -0.5221, -0.8800],\n",
      "        [ 0.4103,  0.7859,  0.0930],\n",
      "        [-1.3403, -0.7935,  0.6092]])\n"
     ]
    }
   ],
   "source": [
    "# randomly initialized matrix\n",
    "x = torch.randn(5, 3)\n",
    "print(x)"
   ],
   "metadata": {
    "collapsed": false,
    "pycharm": {
     "name": "#%%\n"
    }
   }
  },
  {
   "cell_type": "code",
   "execution_count": 78,
   "outputs": [
    {
     "name": "stdout",
     "output_type": "stream",
     "text": [
      "tensor([[0, 0, 0],\n",
      "        [0, 0, 0],\n",
      "        [0, 0, 0],\n",
      "        [0, 0, 0],\n",
      "        [0, 0, 0]])\n"
     ]
    }
   ],
   "source": [
    "# add dtype\n",
    "x = torch.zeros(5, 3, dtype=torch.long)\n",
    "print(x)"
   ],
   "metadata": {
    "collapsed": false,
    "pycharm": {
     "name": "#%%\n"
    }
   }
  },
  {
   "cell_type": "code",
   "execution_count": 80,
   "outputs": [
    {
     "name": "stdout",
     "output_type": "stream",
     "text": [
      "tensor([5.5000, 3.0000])\n"
     ]
    }
   ],
   "source": [
    "# tensor directly from data\n",
    "x = torch.tensor([5.5, 3])\n",
    "print(x)"
   ],
   "metadata": {
    "collapsed": false,
    "pycharm": {
     "name": "#%%\n"
    }
   }
  },
  {
   "cell_type": "code",
   "execution_count": 83,
   "outputs": [
    {
     "name": "stdout",
     "output_type": "stream",
     "text": [
      "tensor([[1., 1., 1.],\n",
      "        [1., 1., 1.],\n",
      "        [1., 1., 1.],\n",
      "        [1., 1., 1.],\n",
      "        [1., 1., 1.]], dtype=torch.float64)\n",
      "tensor([[-0.7431,  0.3100, -0.5082],\n",
      "        [ 0.6791, -1.1422,  0.6354],\n",
      "        [ 0.4991,  0.2810,  0.8325],\n",
      "        [ 0.5438,  0.7514, -0.0562],\n",
      "        [ 0.8448,  0.1931,  0.3077]])\n",
      "torch.Size([5, 3])\n"
     ]
    }
   ],
   "source": [
    "# tensor based on existing tensor\n",
    "x = x.new_ones(5, 3, dtype=torch.double)\n",
    "print(x)\n",
    "\n",
    "x = torch.randn_like(x, dtype=torch.float)\n",
    "print(x)\n",
    "\n",
    "print(x.size())"
   ],
   "metadata": {
    "collapsed": false,
    "pycharm": {
     "name": "#%%\n"
    }
   }
  },
  {
   "cell_type": "code",
   "execution_count": 88,
   "outputs": [
    {
     "name": "stdout",
     "output_type": "stream",
     "text": [
      "tensor([[-0.0960,  1.2971,  0.3986],\n",
      "        [ 1.0292, -0.2455,  0.8642],\n",
      "        [ 1.0203,  0.5797,  1.5563],\n",
      "        [ 1.4379,  1.6869,  0.5911],\n",
      "        [ 1.1041,  0.4989,  0.8936]])\n",
      "tensor([[-0.0960,  1.2971,  0.3986],\n",
      "        [ 1.0292, -0.2455,  0.8642],\n",
      "        [ 1.0203,  0.5797,  1.5563],\n",
      "        [ 1.4379,  1.6869,  0.5911],\n",
      "        [ 1.1041,  0.4989,  0.8936]])\n",
      "tensor([[-0.0960,  1.2971,  0.3986],\n",
      "        [ 1.0292, -0.2455,  0.8642],\n",
      "        [ 1.0203,  0.5797,  1.5563],\n",
      "        [ 1.4379,  1.6869,  0.5911],\n",
      "        [ 1.1041,  0.4989,  0.8936]])\n"
     ]
    }
   ],
   "source": [
    "# addition\n",
    "y = torch.rand(5, 3)\n",
    "print(x + y)\n",
    "# providing output as argument\n",
    "result = torch.empty(5, 3)\n",
    "torch.add(x, y, out=result)\n",
    "print(result)\n",
    "# inplace\n",
    "y.add_(x)\n",
    "print(y)"
   ],
   "metadata": {
    "collapsed": false,
    "pycharm": {
     "name": "#%% Operations\n"
    }
   }
  },
  {
   "cell_type": "code",
   "execution_count": 96,
   "outputs": [
    {
     "name": "stdout",
     "output_type": "stream",
     "text": [
      "tensor([[0.6473, 0.1108, 0.5802, 0.1133],\n",
      "        [0.3901, 0.3106, 0.1916, 0.9124],\n",
      "        [0.3098, 0.9344, 0.0230, 0.5549],\n",
      "        [0.3446, 0.6507, 0.3117, 0.5594]])\n",
      "tensor([0.1108, 0.3106, 0.9344, 0.6507])\n",
      "tensor([[0.9802, 0.8569, 0.0237, 0.0141],\n",
      "        [0.7832, 0.3197, 0.5662, 0.1988],\n",
      "        [0.1545, 0.6469, 0.9830, 0.6842],\n",
      "        [0.9900, 0.2885, 0.5831, 0.4760]]) tensor([0.9802, 0.8569, 0.0237, 0.0141, 0.7832, 0.3197, 0.5662, 0.1988, 0.1545,\n",
      "        0.6469, 0.9830, 0.6842, 0.9900, 0.2885, 0.5831, 0.4760]) tensor([[0.9802, 0.8569, 0.0237, 0.0141, 0.7832, 0.3197, 0.5662, 0.1988],\n",
      "        [0.1545, 0.6469, 0.9830, 0.6842, 0.9900, 0.2885, 0.5831, 0.4760]])\n",
      "torch.Size([4, 4]) torch.Size([16]) torch.Size([2, 8])\n",
      "[[0.98016816 0.8569128  0.02372855 0.01408398]\n",
      " [0.7831647  0.31974298 0.5661779  0.19877106]\n",
      " [0.15454817 0.6469281  0.9829619  0.6841901 ]\n",
      " [0.9900485  0.28846335 0.5830608  0.47603035]]\n",
      "[2. 2. 2. 2. 2.]\n",
      "tensor([2., 2., 2., 2., 2.], dtype=torch.float64)\n"
     ]
    }
   ],
   "source": [
    "# slicing\n",
    "print(x)\n",
    "print(x[:, 1])\n",
    "\n",
    "# resizing using view()\n",
    "x = torch.rand(4,4)\n",
    "y = x.view(-1)\n",
    "z = x.view(-1, 8)\n",
    "print(x, y, z)\n",
    "print(x.size(), y.size(), z.size())\n",
    "\n",
    "# converting to numpy array\n",
    "print(x.numpy())\n",
    "\n",
    "# numpy to tensor\n",
    "a = np.ones(5)\n",
    "b = torch.from_numpy(a)\n",
    "np.add(a, 1, out=a)\n",
    "print(a)\n",
    "print(b)"
   ],
   "metadata": {
    "collapsed": false,
    "pycharm": {
     "name": "#%% Numpy equivalents\n"
    }
   }
  }
 ],
 "metadata": {
  "kernelspec": {
   "name": "pycharm-4975fc6f",
   "language": "python",
   "display_name": "PyCharm (various)"
  },
  "language_info": {
   "codemirror_mode": {
    "name": "ipython",
    "version": 3
   },
   "file_extension": ".py",
   "mimetype": "text/x-python",
   "name": "python",
   "nbconvert_exporter": "python",
   "pygments_lexer": "ipython3",
   "version": "3.7.8"
  }
 },
 "nbformat": 4,
 "nbformat_minor": 1
}